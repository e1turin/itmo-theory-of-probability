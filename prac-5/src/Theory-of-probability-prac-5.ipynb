{
  "nbformat": 4,
  "nbformat_minor": 0,
  "metadata": {
    "colab": {
      "provenance": []
    },
    "kernelspec": {
      "name": "python3",
      "display_name": "Python 3"
    },
    "language_info": {
      "name": "python"
    }
  },
  "cells": [
    {
      "cell_type": "markdown",
      "source": [
        "# Практическая работа №5 по теории вероятностей\n",
        "Задание: *Каждый студент получает выборку из 20 чисел. Необходимо определить следующие статистические \n",
        "характеристики: вариационный ряд, экстремальные значения и размах, оценки математического ожидания и среднеквадратического отклонения, эмпирическую функцию распределения и её график, гистограмму и полигон приведенных частот группированной выборки. Для расчета характеристик и построения графиков нужно написать программу на одном из языков программирования. Листинг программы и результаты работы должны быть представлены в отчете по практической работе.*\n",
        "\n",
        "Вариант 21: `(6,16) — (6,20), (7,16) — (7,20)`"
      ],
      "metadata": {
        "id": "i3JyilcTsrlI"
      }
    },
    {
      "cell_type": "markdown",
      "source": [
        "Используемые модули Python"
      ],
      "metadata": {
        "id": "pua4d6mcsoO2"
      }
    },
    {
      "cell_type": "code",
      "source": [
        "import numpy as np\n",
        "from tabulate import tabulate\n",
        "from collections import Counter\n",
        "import matplotlib.pyplot as plt\n",
        "import math"
      ],
      "metadata": {
        "id": "Ri-MSftpps4a"
      },
      "execution_count": 1,
      "outputs": []
    },
    {
      "cell_type": "markdown",
      "source": [
        "## Ввод данных"
      ],
      "metadata": {
        "id": "3RXvGup2sYHS"
      }
    },
    {
      "cell_type": "code",
      "source": [
        "ввод_выборки = \"\"\"\n",
        " 0.90, -0.24,  0.55, -1.45,  0.17, \n",
        "-1.00,  0.62, -1.45, -0.52, -1.31,\n",
        "\n",
        "-0.76, -0.55, -0.62,  0.21, -1.31,\n",
        "-1.14,  1.07, -0.14, -1.45,  1.45 \n",
        "\"\"\"\n",
        "\n",
        "sampling = np.array(tuple(map(lambda s: float(s.strip(\",\")), ввод_выборки.strip().split())))\n",
        "print(\"Выборка:\")\n",
        "print(tabulate([[i] for i in sampling], headers=[\"X\"]))"
      ],
      "metadata": {
        "colab": {
          "base_uri": "https://localhost:8080/"
        },
        "id": "NrYXAnXhkyx7",
        "outputId": "cca72d45-50e4-4848-ce8e-84b9eb099b91"
      },
      "execution_count": 2,
      "outputs": [
        {
          "output_type": "stream",
          "name": "stdout",
          "text": [
            "Выборка:\n",
            "    X\n",
            "-----\n",
            " 0.9\n",
            "-0.24\n",
            " 0.55\n",
            "-1.45\n",
            " 0.17\n",
            "-1\n",
            " 0.62\n",
            "-1.45\n",
            "-0.52\n",
            "-1.31\n",
            "-0.76\n",
            "-0.55\n",
            "-0.62\n",
            " 0.21\n",
            "-1.31\n",
            "-1.14\n",
            " 1.07\n",
            "-0.14\n",
            "-1.45\n",
            " 1.45\n"
          ]
        }
      ]
    },
    {
      "cell_type": "markdown",
      "source": [
        "## Статистические характеристики выборки"
      ],
      "metadata": {
        "id": "gpZM1Fi6rf2L"
      }
    },
    {
      "cell_type": "code",
      "source": [
        "sampling_min = sampling.min()\n",
        "sampling_max = sampling.max()\n",
        "sampling_range = sampling_max - sampling_min\n",
        "sampling_mean = sampling.mean()\n",
        "sampling_varience = np.var(sampling, ddof=1)\n",
        "\n",
        "print(f\"\"\"\n",
        "Максимальное значение в выборке:    {sampling_max:.3}\n",
        "Минимальное значение в выборке:     {sampling_min:.3}\n",
        "Размах значений выборки:            {sampling_range:.3}\n",
        "Оценка математического ожидания:    {sampling_mean:.3}\n",
        "Оценка исправленного СКО:           {sampling_varience:.3}\n",
        "\"\"\")"
      ],
      "metadata": {
        "colab": {
          "base_uri": "https://localhost:8080/"
        },
        "id": "hLxxilLnqg1V",
        "outputId": "d73fc553-dff2-427d-fe70-50e0379740ec"
      },
      "execution_count": 3,
      "outputs": [
        {
          "output_type": "stream",
          "name": "stdout",
          "text": [
            "\n",
            "Максимальное значение в выборке:    1.45\n",
            "Минимальное значение в выборке:     -1.45\n",
            "Размах значений выборки:            2.9\n",
            "Оценка математического ожидания:    -0.348\n",
            "Оценка исправленного СКО:           0.844\n",
            "\n"
          ]
        }
      ]
    },
    {
      "cell_type": "markdown",
      "source": [
        "### Вариационный ряд"
      ],
      "metadata": {
        "id": "f7LfNt4lrojk"
      }
    },
    {
      "cell_type": "code",
      "source": [
        "destribution = Counter(sampling)\n",
        "\n",
        "series = [[\n",
        "    i, \n",
        "    destribution[i], \n",
        "    destribution[i] / len(sampling)\n",
        "] for i in np.unique(sampling)]\n",
        "\n",
        "print(\"Вариационный ряд:\")\n",
        "print(tabulate(series, headers=[\"X\", \"#X\", \"P(X)\"]))"
      ],
      "metadata": {
        "colab": {
          "base_uri": "https://localhost:8080/"
        },
        "id": "OFqH8J7TuuqC",
        "outputId": "44c2c2a3-a68d-45fb-b58c-fb35382b479c"
      },
      "execution_count": 4,
      "outputs": [
        {
          "output_type": "stream",
          "name": "stdout",
          "text": [
            "Вариационный ряд:\n",
            "    X    #X    P(X)\n",
            "-----  ----  ------\n",
            "-1.45     3    0.15\n",
            "-1.31     2    0.1\n",
            "-1.14     1    0.05\n",
            "-1        1    0.05\n",
            "-0.76     1    0.05\n",
            "-0.62     1    0.05\n",
            "-0.55     1    0.05\n",
            "-0.52     1    0.05\n",
            "-0.24     1    0.05\n",
            "-0.14     1    0.05\n",
            " 0.17     1    0.05\n",
            " 0.21     1    0.05\n",
            " 0.55     1    0.05\n",
            " 0.62     1    0.05\n",
            " 0.9      1    0.05\n",
            " 1.07     1    0.05\n",
            " 1.45     1    0.05\n"
          ]
        }
      ]
    },
    {
      "cell_type": "markdown",
      "source": [
        "### Гистограмма группированной *выборки*"
      ],
      "metadata": {
        "id": "Ols4QwpzsAfF"
      }
    },
    {
      "cell_type": "code",
      "source": [
        "N = (1 + math.floor(math.log2(len(sampling))))\n",
        "counts, bins = np.histogram(sampling, bins=N)\n",
        "h = sampling_range / N\n",
        "\n",
        "plt.title(\"Гистограмма и полигон приведенной группированной выборки\")\n",
        "plt.stairs(counts,  bins, fill=True)\n",
        "plt.plot(bins[:-1] + h/2, counts, marker=\"o\")\n",
        "plt.grid()\n",
        "plt.show()"
      ],
      "metadata": {
        "colab": {
          "base_uri": "https://localhost:8080/",
          "height": 452
        },
        "id": "6mA4QGVwaCfh",
        "outputId": "4ccbb0a8-f3ce-4546-8201-1f32f0e23c47"
      },
      "execution_count": 5,
      "outputs": [
        {
          "output_type": "display_data",
          "data": {
            "text/plain": [
              "<Figure size 640x480 with 1 Axes>"
            ],
            "image/png": "[encoded data removed]"
          },
          "metadata": {}
        }
      ]
    },
    {
      "cell_type": "markdown",
      "source": [
        "### Эмпирическая функция"
      ],
      "metadata": {
        "id": "9Dt2s5aBrrOW"
      }
    },
    {
      "cell_type": "code",
      "source": [
        "ef: list[tuple] = [None] * (1 + len(series)) # empiric function\n",
        "ef[0] = (float(\"-inf\"), series[0][0], 0.0)\n",
        "ef[-1] = (series[-1][0], float(\"+inf\"), 1.0)\n",
        "\n",
        "_cum_sum = 0\n",
        "for i in range(len(series)-1):\n",
        "    _cum_sum += series[i][2]\n",
        "    ef[i+1] = (series[i][0], series[i+1][0], _cum_sum)\n",
        "\n",
        "print(\"Эмпирическая функция':\")\n",
        "print(tabulate(ef, headers=[\"a\", \"b\", \"P(a < X ⩽ b)\"]))"
      ],
      "metadata": {
        "colab": {
          "base_uri": "https://localhost:8080/"
        },
        "id": "_Njvn8CmyF7S",
        "outputId": "ac957675-87ea-4c1f-edca-10eb9433aebb"
      },
      "execution_count": 6,
      "outputs": [
        {
          "output_type": "stream",
          "name": "stdout",
          "text": [
            "Эмпирическая функция':\n",
            "      a       b    P(a < X ⩽ b)\n",
            "-------  ------  --------------\n",
            "-inf      -1.45            0\n",
            "  -1.45   -1.31            0.15\n",
            "  -1.31   -1.14            0.25\n",
            "  -1.14   -1               0.3\n",
            "  -1      -0.76            0.35\n",
            "  -0.76   -0.62            0.4\n",
            "  -0.62   -0.55            0.45\n",
            "  -0.55   -0.52            0.5\n",
            "  -0.52   -0.24            0.55\n",
            "  -0.24   -0.14            0.6\n",
            "  -0.14    0.17            0.65\n",
            "   0.17    0.21            0.7\n",
            "   0.21    0.55            0.75\n",
            "   0.55    0.62            0.8\n",
            "   0.62    0.9             0.85\n",
            "   0.9     1.07            0.9\n",
            "   1.07    1.45            0.95\n",
            "   1.45  inf               1\n"
          ]
        }
      ]
    },
    {
      "cell_type": "markdown",
      "source": [
        "#### График эмпирической функции"
      ],
      "metadata": {
        "id": "X0_PN9bVryDc"
      }
    },
    {
      "cell_type": "code",
      "source": [
        "plt.title(\"График эмпирической функции распределения $F_{эмпир}$\")\n",
        "axes = plt.gca()\n",
        "axes.spines['right'].set_color('none')\n",
        "axes.spines['top'].set_color('none')\n",
        "axes.spines['left'].set_position('zero')\n",
        "axes.spines['bottom'].set_position('zero')\n",
        "axes.plot(1, 0, marker=\">\", ms=5, color='k', transform=axes.get_yaxis_transform(), clip_on=False)\n",
        "axes.plot(0, 1, marker=\"^\", ms=5, color='k', transform=axes.get_xaxis_transform(), clip_on=False)\n",
        "\n",
        "plt.grid()\n",
        "plt.xlim(ef[0][1] - 0.5, ef[-1][0] + 0.5)\n",
        "\n",
        "plt.plot([ef[0][1] - 0.5, ef[0][1]], [ef[0][2] , ef[0][2]], color='r')\n",
        "\n",
        "for i in range(1,len(ef)-1):\n",
        "    plt.plot([ef[i][0], ef[i][1]], [ef[i][2] , ef[i][2]], color='r')\n",
        "    axes.scatter(ef[i-1][1], ef[i-1][2], s=30, facecolors='none', edgecolors='r')\n",
        "\n",
        "plt.plot([ef[-1][0] + 0.5, ef[-1][0]], [ef[-2][2] , ef[-2][2]], color='r')\n",
        "\n",
        "plt.show()"
      ],
      "metadata": {
        "colab": {
          "base_uri": "https://localhost:8080/",
          "height": 438
        },
        "id": "xDCCuGAoyy5m",
        "outputId": "c103568b-1407-4817-e1e7-64475d5a6c57"
      },
      "execution_count": 7,
      "outputs": [
        {
          "output_type": "display_data",
          "data": {
            "text/plain": [
              "<Figure size 640x480 with 1 Axes>"
            ],
            "image/png": "[encoded data removed]"
          },
          "metadata": {}
        }
      ]
    },
    {
      "cell_type": "code",
      "source": [],
      "metadata": {
        "id": "-zHtUegbmuc1"
      },
      "execution_count": 7,
      "outputs": []
    }
  ]
}